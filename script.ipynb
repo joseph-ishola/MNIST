{
 "cells": [
  {
   "cell_type": "markdown",
   "id": "15d19a3e-6451-48e4-a204-22a7a8ba021b",
   "metadata": {},
   "source": [
    "# Deep Neural Network for MNIST Classification"
   ]
  },
  {
   "cell_type": "markdown",
   "id": "bbb1d957-97b3-4ecd-a22a-acc50ce0260a",
   "metadata": {},
   "source": [
    "The dataset is called MNIST and refers to handwritten digit recognition. You can find more about it on Yann LeCun's website (Director of AI Research, Facebook).\n",
    "\n",
    "The dataset provides 70,000 images (28x28 pixels) of handwritten digits (1 digit per image).\n",
    "\n",
    "The goal is to write an algorithm that detects which digit is written. Since there are only 10 digits (0, 1, 2, 3, 4, 5, 6, 7, 8, 9), this is a classification problem with 10 classes.\n",
    "\n",
    "Our goal would be to build a neural network with hidden layers."
   ]
  },
  {
   "cell_type": "code",
   "execution_count": 115,
   "id": "a290581c-3c33-44bc-bfd7-162be4bab87b",
   "metadata": {},
   "outputs": [],
   "source": [
    "import pandas as pd\n",
    "import numpy as np\n",
    "import matplotlib.pyplot as plt\n",
    "import tensorflow as tf\n",
    "from tensorflow import keras\n",
    "import keras_tuner as kt\n",
    "import tensorflow_datasets as tfds"
   ]
  },
  {
   "cell_type": "markdown",
   "id": "3f07801b-acbf-4404-84e8-1db42038bb0d",
   "metadata": {},
   "source": [
    "## Data Preprocessing"
   ]
  },
  {
   "cell_type": "code",
   "execution_count": 117,
   "id": "07dc9683-b063-4770-aa43-23c6f9ab9bec",
   "metadata": {},
   "outputs": [],
   "source": [
    "# Load the data from tfds\n",
    "mnist_datasets, mnist_info = tfds.load(name='mnist', with_info=True, as_supervised=True)\n",
    "\n",
    "# with_info=True will also provide us with a tuple containing information about the version, features, number of samples\n",
    "# as_supervised=True will load the dataset in a 2-tuple structure (input, target)"
   ]
  },
  {
   "cell_type": "code",
   "execution_count": 118,
   "id": "486b1414-e9a2-4d52-b194-7856b59c9847",
   "metadata": {},
   "outputs": [
    {
     "data": {
      "text/plain": [
       "tfds.core.DatasetInfo(\n",
       "    name='mnist',\n",
       "    full_name='mnist/3.0.1',\n",
       "    description=\"\"\"\n",
       "    The MNIST database of handwritten digits.\n",
       "    \"\"\",\n",
       "    homepage='http://yann.lecun.com/exdb/mnist/',\n",
       "    data_path='C:\\\\Users\\\\josep\\\\tensorflow_datasets\\\\mnist\\\\3.0.1',\n",
       "    file_format=tfrecord,\n",
       "    download_size=11.06 MiB,\n",
       "    dataset_size=21.00 MiB,\n",
       "    features=FeaturesDict({\n",
       "        'image': Image(shape=(28, 28, 1), dtype=uint8),\n",
       "        'label': ClassLabel(shape=(), dtype=int64, num_classes=10),\n",
       "    }),\n",
       "    supervised_keys=('image', 'label'),\n",
       "    disable_shuffling=False,\n",
       "    splits={\n",
       "        'test': <SplitInfo num_examples=10000, num_shards=1>,\n",
       "        'train': <SplitInfo num_examples=60000, num_shards=1>,\n",
       "    },\n",
       "    citation=\"\"\"@article{lecun2010mnist,\n",
       "      title={MNIST handwritten digit database},\n",
       "      author={LeCun, Yann and Cortes, Corinna and Burges, CJ},\n",
       "      journal={ATT Labs [Online]. Available: http://yann.lecun.com/exdb/mnist},\n",
       "      volume={2},\n",
       "      year={2010}\n",
       "    }\"\"\",\n",
       ")"
      ]
     },
     "execution_count": 118,
     "metadata": {},
     "output_type": "execute_result"
    }
   ],
   "source": [
    "# Check the info of the mnist datasets\n",
    "mnist_info"
   ]
  },
  {
   "cell_type": "code",
   "execution_count": 119,
   "id": "d127b916-eee5-4b33-8c6b-a2ae5d57226e",
   "metadata": {},
   "outputs": [
    {
     "data": {
      "text/plain": [
       "{'train': <_PrefetchDataset element_spec=(TensorSpec(shape=(28, 28, 1), dtype=tf.uint8, name=None), TensorSpec(shape=(), dtype=tf.int64, name=None))>,\n",
       " 'test': <_PrefetchDataset element_spec=(TensorSpec(shape=(28, 28, 1), dtype=tf.uint8, name=None), TensorSpec(shape=(), dtype=tf.int64, name=None))>}"
      ]
     },
     "execution_count": 119,
     "metadata": {},
     "output_type": "execute_result"
    }
   ],
   "source": [
    "# Check the mnist datasets\n",
    "mnist_datasets"
   ]
  },
  {
   "cell_type": "code",
   "execution_count": 120,
   "id": "fe4db47b-d601-427f-887f-84ceae303bbd",
   "metadata": {},
   "outputs": [],
   "source": [
    "# once we have loaded the dataset, we can easily extract the training and testing dataset\n",
    "mnist_train, mnist_test = mnist_datasets['train'], mnist_datasets['test']"
   ]
  },
  {
   "cell_type": "code",
   "execution_count": 121,
   "id": "63783cd9-9e31-4dcd-b860-f2805ddd8bbf",
   "metadata": {},
   "outputs": [
    {
     "data": {
      "text/plain": [
       "<tf.Tensor: shape=(), dtype=int64, numpy=60000>"
      ]
     },
     "execution_count": 121,
     "metadata": {},
     "output_type": "execute_result"
    }
   ],
   "source": [
    "# total number of training data in the mnist datasets\n",
    "tf.cast(mnist_info.splits['train'].num_examples, tf.int64)"
   ]
  },
  {
   "cell_type": "markdown",
   "id": "1567ca6c-af9e-40ff-81a2-1e91930e70db",
   "metadata": {},
   "source": [
    "By default, TF has training and testing datasets but no validation sets,\n",
    "thus we must split it on our own"
   ]
  },
  {
   "cell_type": "code",
   "execution_count": 123,
   "id": "d66f241c-2474-49e6-bc38-474cd1ad1c80",
   "metadata": {},
   "outputs": [
    {
     "data": {
      "text/plain": [
       "<tf.Tensor: shape=(), dtype=int64, numpy=6000>"
      ]
     },
     "execution_count": 123,
     "metadata": {},
     "output_type": "execute_result"
    }
   ],
   "source": [
    "# we start by defining the number of validation samples as a % of the train samples\n",
    "num_validation_samples = 0.1 * mnist_info.splits[\"train\"].num_examples\n",
    "# let's cast this number to an integer, as a float may cause an error along the way\n",
    "num_validation_samples = tf.cast(num_validation_samples, tf.int64)\n",
    "num_validation_samples"
   ]
  },
  {
   "cell_type": "code",
   "execution_count": 124,
   "id": "cadad0e1-59b7-46db-8e32-8f49ad6da972",
   "metadata": {},
   "outputs": [
    {
     "data": {
      "text/plain": [
       "<tf.Tensor: shape=(), dtype=int64, numpy=10000>"
      ]
     },
     "execution_count": 124,
     "metadata": {},
     "output_type": "execute_result"
    }
   ],
   "source": [
    "# let's also store the number of test samples in a dedicated variable\n",
    "num_test_samples = tf.cast(mnist_info.splits['test'].num_examples, tf.int64)\n",
    "num_test_samples"
   ]
  },
  {
   "cell_type": "markdown",
   "id": "80573d55-e43c-470d-902f-cdb48a4c27fa",
   "metadata": {},
   "source": [
    "Normally, we would like to scale our data in some way to make the result more numerically stable. \\\n",
    "In this case we will simply prefer to have inputs between 0 and 1.\\\n",
    "The method dataset.map(custom_function) allows us to apply a custom transformation to a given dataset"
   ]
  },
  {
   "cell_type": "code",
   "execution_count": 126,
   "id": "1c533f2d-08a6-4877-a156-a84eaa20df45",
   "metadata": {},
   "outputs": [],
   "source": [
    "# let's define a function called: scale, that will take an MNIST image and its label\n",
    "def scale(image, label):\n",
    "    image = tf.cast(image, tf.float32) #float values\n",
    "    # since the possible values for the inputs are 0 to 255 (256 different shades of grey)\n",
    "    # if we divide each element by 255, we would get the desired result -> all elements will be between 0 and 1 \n",
    "    image /= 255.\n",
    "\n",
    "    return image, label\n",
    "\n",
    "# we will apply the scaling transformation on the mnist_train and store it as both train and validation data\n",
    "scaled_train_and_validation_data = mnist_train.map(scale)\n",
    "# same thing for the test data so it has the same magnitude as the train and validation\n",
    "scaled_test_data = mnist_test.map(scale)"
   ]
  },
  {
   "cell_type": "markdown",
   "id": "ae5c626c-b061-490e-8d2a-3a02b53b02f5",
   "metadata": {},
   "source": [
    "We will also shuffle the combine train and validation data. \\\n",
    "There is no need to shuffle the test data, because we won't be training on it.\n",
    "\n",
    "This BUFFER_SIZE parameter is here for cases when we're dealing with enormous datasets,\n",
    "then we can't shuffle the whole dataset in one go because we can't fit it all in memory, so instead TF only stores BUFFER_SIZE samples in memory at a time and shuffles them.\n",
    "* if BUFFER_SIZE = 1 -- no shuffling will actually happen\n",
    "* if BUFFER_SIZE >= num samples -- shuffling is uniform\n",
    "* BUFFER_SIZE in between -- a computational optimization to approximate uniform shuffling"
   ]
  },
  {
   "cell_type": "code",
   "execution_count": 128,
   "id": "c4851f4d-744d-4362-b81b-3265fd51a1c8",
   "metadata": {},
   "outputs": [],
   "source": [
    "BUFFER_SIZE = 10000\n",
    "\n",
    "# there is a shuffle method readily available and we just need to specify the buffer size\n",
    "shuffled_train_and_validation_data = scaled_train_and_validation_data.shuffle(BUFFER_SIZE)\n",
    "\n",
    "# once we have scaled and shuffled the data, we can proceed to actually extracting the train and validation\n",
    "# our validation data would be equal to 10% of the training set, which we've already calculated\n",
    "# we use the .take() method to take that many samples\n",
    "validation_data = shuffled_train_and_validation_data.take(num_validation_samples)\n",
    "\n",
    "# similarly, the train_data is everything else, so we skip as many samples as there are in the validation dataset\n",
    "train_data = shuffled_train_and_validation_data.skip(num_validation_samples)\n",
    "\n",
    "# determine the batch size\n",
    "BATCH_SIZE = 100\n",
    "\n",
    "# batch the data\n",
    "train_data = train_data.batch(BATCH_SIZE)\n",
    "\n",
    "validation_data = validation_data.batch(num_validation_samples)\n",
    "\n",
    "test_data = scaled_test_data.batch(num_test_samples)\n",
    "\n",
    "# takes next batch (it is the only batch)\n",
    "# because as_supervized=True, we've got a 2-tuple structure\n",
    "validation_inputs, validation_targets = next(iter(validation_data))"
   ]
  },
  {
   "cell_type": "code",
   "execution_count": 129,
   "id": "bc550c33-50f6-4577-b7e1-42a3303159e9",
   "metadata": {},
   "outputs": [
    {
     "data": {
      "text/plain": [
       "<_BatchDataset element_spec=(TensorSpec(shape=(None, 28, 28, 1), dtype=tf.float32, name=None), TensorSpec(shape=(None,), dtype=tf.int64, name=None))>"
      ]
     },
     "execution_count": 129,
     "metadata": {},
     "output_type": "execute_result"
    }
   ],
   "source": [
    "# Batched train dataset\n",
    "train_data"
   ]
  },
  {
   "cell_type": "markdown",
   "id": "5cb89522-0fec-4902-a680-0f5f326b700c",
   "metadata": {},
   "source": [
    "## Model\n",
    "\n",
    "### DNN using Tensorflow"
   ]
  },
  {
   "cell_type": "code",
   "execution_count": 131,
   "id": "43eb9f5f-3504-4211-8324-01c07d8ff619",
   "metadata": {},
   "outputs": [],
   "source": [
    "INPUT_SIZE = 784\n",
    "HIDDEN_LAYER_SIZE = 50\n",
    "OUTPUT_SIZE = 10\n",
    "\n",
    "\n",
    "# define how the model will look like\n",
    "model = tf.keras.Sequential([\n",
    "    # the first layer (the input layer)\n",
    "    # each observation is 28x28x1 pixels, therefore it is a tensor of rank 3, we must flatten the images\n",
    "    # there is a convenient method 'Flatten' that simply takes our 28x28x1 tensor and orders it into a (None,) \n",
    "    # or (28x28x1,) = (784,) vector\n",
    "    # this allows us to actually create a feed forward neural network\n",
    "    tf.keras.layers.Flatten(input_shape = (28, 28, 1)),\n",
    "\n",
    "    # Hidden layers\n",
    "    tf.keras.layers.Dense(HIDDEN_LAYER_SIZE, activation=\"relu\"), # 1st\n",
    "    tf.keras.layers.Dense(HIDDEN_LAYER_SIZE, activation=\"relu\"), # 2nd\n",
    "\n",
    "    # the final layer is no different, we just make sure to activate it with softmax\n",
    "    tf.keras.layers.Dense(OUTPUT_SIZE, activation=\"softmax\")\n",
    "])"
   ]
  },
  {
   "cell_type": "markdown",
   "id": "cb780368-b327-4207-a215-358b06b8b093",
   "metadata": {},
   "source": [
    "## Optimization and Loss function\n",
    "\n",
    "we define the optimizer we'd like to use, the loss function, and the metrics we are interested in obtaining at each iteration"
   ]
  },
  {
   "cell_type": "code",
   "execution_count": 133,
   "id": "22f0cbf2-a749-494b-b8de-65bc1d778302",
   "metadata": {},
   "outputs": [],
   "source": [
    "model.compile(optimizer='adam', loss='SparseCategoricalCrossentropy', metrics=[\"accuracy\"])"
   ]
  },
  {
   "cell_type": "markdown",
   "id": "92f300b8-fbac-46bd-a421-a17d6c4273db",
   "metadata": {},
   "source": [
    "## Training\n",
    "\n",
    "Here we are going to train our model :)"
   ]
  },
  {
   "cell_type": "code",
   "execution_count": 135,
   "id": "4de8a341-9f8e-44f0-aa78-8a30d501c06b",
   "metadata": {},
   "outputs": [
    {
     "name": "stdout",
     "output_type": "stream",
     "text": [
      "Epoch 1/10\n",
      "540/540 - 2s - loss: 0.4142 - accuracy: 0.8831 - val_loss: 0.2072 - val_accuracy: 0.9405 - 2s/epoch - 3ms/step\n",
      "Epoch 2/10\n",
      "540/540 - 1s - loss: 0.1849 - accuracy: 0.9467 - val_loss: 0.1516 - val_accuracy: 0.9543 - 1s/epoch - 2ms/step\n",
      "Epoch 3/10\n",
      "540/540 - 1s - loss: 0.1381 - accuracy: 0.9595 - val_loss: 0.1231 - val_accuracy: 0.9643 - 947ms/epoch - 2ms/step\n",
      "Epoch 4/10\n",
      "540/540 - 1s - loss: 0.1131 - accuracy: 0.9660 - val_loss: 0.1068 - val_accuracy: 0.9682 - 963ms/epoch - 2ms/step\n",
      "Epoch 5/10\n",
      "540/540 - 1s - loss: 0.0956 - accuracy: 0.9709 - val_loss: 0.1022 - val_accuracy: 0.9705 - 957ms/epoch - 2ms/step\n",
      "Epoch 6/10\n",
      "540/540 - 1s - loss: 0.0835 - accuracy: 0.9740 - val_loss: 0.0959 - val_accuracy: 0.9718 - 986ms/epoch - 2ms/step\n",
      "Epoch 7/10\n",
      "540/540 - 1s - loss: 0.0733 - accuracy: 0.9779 - val_loss: 0.0769 - val_accuracy: 0.9785 - 1s/epoch - 2ms/step\n",
      "Epoch 8/10\n",
      "540/540 - 1s - loss: 0.0648 - accuracy: 0.9799 - val_loss: 0.0700 - val_accuracy: 0.9798 - 1s/epoch - 2ms/step\n",
      "Epoch 9/10\n",
      "540/540 - 1s - loss: 0.0578 - accuracy: 0.9827 - val_loss: 0.0706 - val_accuracy: 0.9787 - 928ms/epoch - 2ms/step\n",
      "Epoch 10/10\n",
      "540/540 - 1s - loss: 0.0507 - accuracy: 0.9841 - val_loss: 0.0598 - val_accuracy: 0.9825 - 964ms/epoch - 2ms/step\n"
     ]
    },
    {
     "data": {
      "text/plain": [
       "<keras.src.callbacks.History at 0x20c18f214c0>"
      ]
     },
     "execution_count": 135,
     "metadata": {},
     "output_type": "execute_result"
    }
   ],
   "source": [
    "# specify the number of epochs\n",
    "EPOCHS = 10\n",
    "# We would like to see the metrics presented out per epochs, also for future uses,\n",
    "# we would like to have it saved so we use custom callback that records them during training\n",
    "class MetricsHistory(tf.keras.callbacks.Callback):\n",
    "    def on_train_begin(self, logs=None):\n",
    "        self.losses = []\n",
    "        self.val_losses = []\n",
    "        self.accuracy = []\n",
    "        self.val_accuracy = []\n",
    "    \n",
    "    def on_epoch_end(self, epoch, logs=None):\n",
    "        logs = logs or {}\n",
    "        self.losses.append(logs.get('loss'))\n",
    "        self.val_losses.append(logs.get('val_loss'))\n",
    "        self.accuracy.append(logs.get('accuracy'))\n",
    "        self.val_accuracy.append(logs.get('val_accuracy'))\n",
    "\n",
    "# Create an instance of the callback\n",
    "metrics_history = MetricsHistory()\n",
    "\n",
    "# we fit the model, specifying the training data, the total number of epochs\n",
    "# and the validation data we just created ourselves in the format: (inputs,targets)\n",
    "model.fit(train_data, epochs=EPOCHS, validation_data=(validation_inputs, validation_targets), verbose=2, callbacks=[metrics_history])"
   ]
  },
  {
   "cell_type": "code",
   "execution_count": 136,
   "id": "bb12569d-870f-4206-b79b-f48fc994aaf6",
   "metadata": {},
   "outputs": [
    {
     "name": "stdout",
     "output_type": "stream",
     "text": [
      "Model: \"sequential_2\"\n",
      "_________________________________________________________________\n",
      " Layer (type)                Output Shape              Param #   \n",
      "=================================================================\n",
      " flatten_3 (Flatten)         (None, 784)               0         \n",
      "                                                                 \n",
      " dense_6 (Dense)             (None, 50)                39250     \n",
      "                                                                 \n",
      " dense_7 (Dense)             (None, 50)                2550      \n",
      "                                                                 \n",
      " dense_8 (Dense)             (None, 10)                510       \n",
      "                                                                 \n",
      "=================================================================\n",
      "Total params: 42310 (165.27 KB)\n",
      "Trainable params: 42310 (165.27 KB)\n",
      "Non-trainable params: 0 (0.00 Byte)\n",
      "_________________________________________________________________\n"
     ]
    }
   ],
   "source": [
    "model.summary()"
   ]
  },
  {
   "cell_type": "code",
   "execution_count": 137,
   "id": "9ebe4d9e-1af4-4777-9d11-b521f80a0e30",
   "metadata": {},
   "outputs": [
    {
     "data": {
      "image/png": "[encoded data removed]",
      "text/plain": [
       "<Figure size 1600x600 with 2 Axes>"
      ]
     },
     "metadata": {},
     "output_type": "display_data"
    }
   ],
   "source": [
    "# Create a figure with two subplots side by side\n",
    "fig, (ax1, ax2) = plt.subplots(1, 2, figsize=(16, 6))\n",
    "\n",
    "# Plotting the loss metrics on the first subplot\n",
    "ax1.plot(metrics_history.losses, label='Training Loss')\n",
    "ax1.plot(metrics_history.val_losses, label='Validation Loss')\n",
    "ax1.set_title('Base Model Loss Over Epochs')\n",
    "ax1.set_xlabel('Epoch')\n",
    "ax1.set_ylabel('Loss')\n",
    "ax1.legend()\n",
    "\n",
    "# Plotting the accuracy metrics on the second subplot\n",
    "ax2.plot(metrics_history.accuracy, label='Training Accuracy')\n",
    "ax2.plot(metrics_history.val_accuracy, label='Validation Accuracy')\n",
    "ax2.set_title('Base Model Accuracy Over Epochs')\n",
    "ax2.set_xlabel('Epoch')\n",
    "ax2.set_ylabel('Accuracy')\n",
    "ax2.legend()\n",
    "\n",
    "# Display the plots\n",
    "plt.tight_layout()\n",
    "plt.show()"
   ]
  },
  {
   "cell_type": "markdown",
   "id": "0da784ce-c72c-4a62-b92f-35e21300129e",
   "metadata": {},
   "source": [
    "From Epochs 4, we can already detect overfitting in the training. This is evident with the validation loss starting to increase while the training loss is reducing. \\\n",
    "The model is starting to fit extremely well with the training data but not as well with the validation data."
   ]
  },
  {
   "cell_type": "code",
   "execution_count": 139,
   "id": "00bf68a1-1cee-4aee-b0f6-5579578fee43",
   "metadata": {},
   "outputs": [
    {
     "name": "stdout",
     "output_type": "stream",
     "text": [
      "Average Training loss: 0.13. Average Training accuracy: 96.25%\n"
     ]
    }
   ],
   "source": [
    "# Average training accuracy and loss accross 10 Epochs\n",
    "Average_Training_loss = np.mean(metrics_history.losses)\n",
    "Average_Training_accuracy = np.mean(metrics_history.accuracy)\n",
    "\n",
    "print('Average Training loss: {0:.2f}. Average Training accuracy: {1:.2f}%'.format(Average_Training_loss, Average_Training_accuracy*100.))"
   ]
  },
  {
   "cell_type": "markdown",
   "id": "0672ed5c-7732-451d-8d03-6ac555975fa6",
   "metadata": {},
   "source": [
    "We have a good training accuracy of 96.25%, But we can do better than this with some hyperparameter tuning"
   ]
  },
  {
   "cell_type": "markdown",
   "id": "ce82fa8f-643b-45fa-85b3-39829562f5ec",
   "metadata": {},
   "source": [
    "## Hyperparameter Tuning, Manual\n",
    "\n",
    "The following hyperparameters were adjusted"
   ]
  },
  {
   "cell_type": "markdown",
   "id": "b72cc3c8-82d8-4424-a964-cc4528e6b787",
   "metadata": {},
   "source": [
    "#### The width of the Neural Network\n",
    "* 2 hidden layers of size 50, the accuracy increase to val_accuracy: 0.9740 with 1s on average per epochs\n",
    "* 2 hidden layers of size 100, the accuracy increase to val_accuracy: 0.9808 with 1s on average per epochs\n",
    "* 2 hidden layers of size 200, the accuracy increase to val_accuracy: 0.9885 with 1s on average per epochs"
   ]
  },
  {
   "cell_type": "markdown",
   "id": "cd3c9fc6-23d2-44f7-ac30-a78085532794",
   "metadata": {},
   "source": [
    "#### The depth of the Neural Network\n",
    "* 3 hidden layers of size 200 each, the val_accuracy: 0.9860 with 2s on average per epochs, also here the val_loss has start to increase\n",
    "* 4 hidden layers of size 200 each, the val_accuracy: 0.9845 with 2s on average per epochs, no visible improvement in the model.\n",
    "* 4 hidden layers of size 300 each, the val_accuracy: 0.9878 with 2s on average per epochs.\n",
    "* 5 hidden layers of size 300 each, the val_accuracy: 0.9828 with 2s on average per epochs.\n",
    "\n",
    "We can conclude that the depth of the hidden layers has little effects on the network and the model, but increasing the width > 200 coupled with the depth can be an improvement"
   ]
  },
  {
   "cell_type": "markdown",
   "id": "1fa982cb-d1dd-48a6-b8a4-03935bc73c5a",
   "metadata": {},
   "source": [
    "#### Activation Function\n",
    "* the default activation function for the hidden layers used here is \"relu\"\n",
    "* using \"sigmoid\",  the val_accuracy: 0.9725, relu is better\n",
    "* using tanh, the val_accuracy: 0.9825, relu is better\n",
    "* using relu and tanh, using purely relu in the hidden layers is better still!\n",
    "\n",
    "That is because relu 'cleans' the noise in the data (think about it - if a value is negative, relu filters it out, while if it is positive, it takes it into account). For the MNIST dataset, we care only about the intensely black and white parts in the images of the digits, so such filtering proves beneficial.\n",
    "\n",
    "The sigmoid does not filter the signals as well as relu, but still reaches a respectable result"
   ]
  },
  {
   "cell_type": "markdown",
   "id": "4d7ed12c-0541-404d-92b2-cf8a196ff5f7",
   "metadata": {},
   "source": [
    "#### Batchsize\n",
    "* we started with a batch size of 100\n",
    "* batchsize = 1000, increasing the batchsize reduces the optimization time, but accuracy reduces: val_accuracy: 0.9685\n",
    "* batchsize = 10000, accuracy reduces: val_accuracy: 0.9053 \n",
    "* batchsize = 1, the optimization time is significantly higher, with 80s on average per epochs, the accuracy is no better with val_accuracy: 0.9433, also the accuracy started high but end low and the loss can be seen to flunctuate abit.\n",
    "\n",
    "Using a batchsize of 1 basically means we are dealing with sgd, where each data is used in optimization rather than taking a batch of the dataset like in batch-gd. this also explain the reason for the longer optimization time, since it will take a longer time to get to the minimum.\n",
    "The validation accuracy starts from a high number. That's because there are lots updates in a single epoch. Once the training is over, the accuracy is lower than all other batch sizes (SGD was an approximation)."
   ]
  },
  {
   "cell_type": "markdown",
   "id": "e05e3af6-f7ad-48f0-9b08-6f49989413e9",
   "metadata": {},
   "source": [
    "#### Learning rate\n",
    "* learning rate of 0.0001, val_accuracy: 0.9608, with 4s on average per epochs. Since the learning rate is lower than normal, we may need to adjust the max_epochs (to, say, 50). The result is basically the same, but we reach it much slower.\n",
    "* learning rate of 0.02, accuracy did not improve, but also the time taken was on average the same as the 0.0001.\n",
    "\n",
    "Since adam is the chosen optimizer, it changes the learning rate per iteration by incorporating momentum to get to the gradient quicker.\\\n",
    "While Adam adapts to the problem, if the orders of magnitude are too different, it may not have enough time to adjust accordingly."
   ]
  },
  {
   "cell_type": "markdown",
   "id": "71b37dd5-1c30-4eb4-9d1f-b285bf2aa862",
   "metadata": {},
   "source": [
    "## Hyperparameter Selected after Manual Tuning\n",
    "* BATCH_SIZE = 100\n",
    "* HIDDEN_LAYER_SIZE = 200\n",
    "* Number of Hidden layer = 2\n",
    "* Hidden layers Activators = ReLu\n",
    "* optimizer=\"adam\", with default settings\n",
    "* loss=\"SparseCategoricalCrossentropy\""
   ]
  },
  {
   "cell_type": "code",
   "execution_count": 172,
   "id": "8032a594-7fe1-41cd-b298-22aeabe54e4c",
   "metadata": {},
   "outputs": [
    {
     "name": "stdout",
     "output_type": "stream",
     "text": [
      "Average Training loss: 0.07. Average Training accuracy: 98.02%\n"
     ]
    }
   ],
   "source": [
    "# Using the hyperparameter from manual tuning\n",
    "\n",
    "INPUT_SIZE = 784\n",
    "HIDDEN_LAYER_SIZE = 200\n",
    "OUTPUT_SIZE = 10\n",
    "\n",
    "# define how the model will look like\n",
    "model = tf.keras.Sequential([\n",
    "    # Input layer\n",
    "    tf.keras.layers.Flatten(input_shape = (28, 28, 1)),\n",
    "\n",
    "    # Hidden layers\n",
    "    tf.keras.layers.Dense(HIDDEN_LAYER_SIZE, activation=\"relu\"), # 1st\n",
    "    tf.keras.layers.Dense(HIDDEN_LAYER_SIZE, activation=\"relu\"), # 2nd\n",
    "\n",
    "    # the final layer is no different, we just make sure to activate it with softmax\n",
    "    tf.keras.layers.Dense(OUTPUT_SIZE, activation=\"softmax\")\n",
    "])\n",
    "\n",
    "model.compile(optimizer='adam', loss='SparseCategoricalCrossentropy', metrics=[\"accuracy\"])\n",
    "\n",
    "# specify the number of epochs\n",
    "EPOCHS = 10\n",
    "\n",
    "# Create an instance of your callback\n",
    "metrics_history = MetricsHistory()\n",
    "\n",
    "# we fit the model, specifying the training data, the total number of epochs\n",
    "model.fit(train_data, epochs=EPOCHS, validation_data=(validation_inputs, validation_targets), verbose=0, callbacks=[metrics_history])\n",
    "\n",
    "# Average training accuracy and loss accross 10 Epochs\n",
    "Average_Training_loss = np.mean(metrics_history.losses)\n",
    "Average_Training_accuracy = np.mean(metrics_history.accuracy)\n",
    "\n",
    "print('Average Training loss: {0:.2f}. Average Training accuracy: {1:.2f}%'.format(Average_Training_loss, Average_Training_accuracy*100.))"
   ]
  },
  {
   "cell_type": "markdown",
   "id": "abad9a32-bf86-4e23-90c5-d3ec994fa3b0",
   "metadata": {},
   "source": [
    "We have a good training accuracy of 98.02%, But we can do better than this with some better hyperparameter tuning strategy"
   ]
  },
  {
   "cell_type": "code",
   "execution_count": null,
   "id": "7569dd67-ab2a-4844-a91d-519e71e95d67",
   "metadata": {},
   "outputs": [],
   "source": []
  }
 ],
 "metadata": {
  "kernelspec": {
   "display_name": "Python [conda env:TF2.0]",
   "language": "python",
   "name": "conda-env-TF2.0-py"
  },
  "language_info": {
   "codemirror_mode": {
    "name": "ipython",
    "version": 3
   },
   "file_extension": ".py",
   "mimetype": "text/x-python",
   "name": "python",
   "nbconvert_exporter": "python",
   "pygments_lexer": "ipython3",
   "version": "3.8.20"
  }
 },
 "nbformat": 4,
 "nbformat_minor": 5
}
